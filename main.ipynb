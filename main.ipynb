{
 "cells": [
  {
   "cell_type": "code",
   "execution_count": 1,
   "metadata": {},
   "outputs": [],
   "source": [
    "import numpy as np\n",
    "from gpr import kron_prod, kron_prod_naive, GPR,make_grid\n",
    "import matplotlib.pyplot as plt\n",
    "from scipy.optimize import minimize"
   ]
  },
  {
   "cell_type": "code",
   "execution_count": 2,
   "metadata": {},
   "outputs": [],
   "source": [
    "n_rows = [3,5,7,6]\n",
    "n_col = [4,4,8,5]\n",
    "dim = np.prod(n_col)\n",
    "A = [np.random.random([x,y]) for x,y in zip(n_rows,n_col)]\n",
    "b = np.random.random(dim)"
   ]
  },
  {
   "cell_type": "code",
   "execution_count": 3,
   "metadata": {},
   "outputs": [
    {
     "data": {
      "text/plain": [
       "1.8041175391148701e-13"
      ]
     },
     "execution_count": 3,
     "metadata": {},
     "output_type": "execute_result"
    }
   ],
   "source": [
    "np.linalg.norm(kron_prod(A,b)-kron_prod_naive(A,b))"
   ]
  },
  {
   "cell_type": "code",
   "execution_count": 4,
   "metadata": {},
   "outputs": [],
   "source": [
    "d=3\n",
    "x_train = [np.linspace(0,1,100) for i in range(d)]\n",
    "x_grid=make_grid(x_train)\n",
    "n=x_grid.shape[0]\n",
    "def f(xx):\n",
    "    return np.sin(20*xx.sum(axis=1))\n",
    "y_train = f(x_grid)+np.random.normal(0,0.05,n)\n",
    "gpr=GPR()\n",
    "gpr.fit_weights(x_train,y_train)"
   ]
  },
  {
   "cell_type": "code",
   "execution_count": 5,
   "metadata": {},
   "outputs": [
    {
     "data": {
      "text/plain": [
       "[<matplotlib.lines.Line2D at 0x26a170659c8>]"
      ]
     },
     "execution_count": 5,
     "metadata": {},
     "output_type": "execute_result"
    },
    {
     "data": {
      "image/png": "[encoded data removed]",
      "text/plain": [
       "<Figure size 432x288 with 1 Axes>"
      ]
     },
     "metadata": {
      "needs_background": "light"
     },
     "output_type": "display_data"
    }
   ],
   "source": [
    "plt.plot(f(x_grid),y_train,'.')\n",
    "x_test = [np.sort(np.random.random(100)) for i in range(d)]\n",
    "x_grid_test=make_grid(x_test)\n",
    "plt.plot(f(x_grid_test),gpr.predict(x_test),'.')"
   ]
  },
  {
   "cell_type": "code",
   "execution_count": 14,
   "metadata": {},
   "outputs": [],
   "source": [
    "dx = np.array([(np.diff(x).mean() * 2, (x.max() - x.min())) for x in x_train])\n",
    "\n",
    "def sigmoid(x):\n",
    "    res = np.zeros(x.size)\n",
    "    ind = x>=0\n",
    "    res[ind] = 1/(1+np.exp(-x[ind]))\n",
    "    ind = ~ind\n",
    "    q=np.exp(x[ind])\n",
    "    res[ind] = q/(1+q)\n",
    "    return res\n",
    "    \n",
    "    \n",
    "\n",
    "def target_fun(x):\n",
    "    q =sigmoid(x[:-1])\n",
    "    #q=q/(1+q)\n",
    "    length_scale = q*dx[:,0]+(1-q)*dx[:,1]\n",
    "    #print(q,length_scale)\n",
    "    gpr.fit_weights(x_train, y_train, noise=x[-1], length_scale=length_scale)\n",
    "    return gpr.minus_log_likelihood\n",
    "\n",
    "x0=np.array([1]*gpr.nr_dimensions+[1e-6])\n",
    "target_fun(x0)\n",
    "sol = minimize(target_fun,x0)"
   ]
  },
  {
   "cell_type": "code",
   "execution_count": 16,
   "metadata": {},
   "outputs": [],
   "source": [
    "q =sigmoid(sol.x[:-1])\n",
    "length_scale = q*dx[:,0]+(1-q)*dx[:,1]\n",
    "gpr.fit_weights(x_train, y_train, noise=sol.x[-1], length_scale=length_scale)"
   ]
  },
  {
   "cell_type": "code",
   "execution_count": 18,
   "metadata": {},
   "outputs": [
    {
     "data": {
      "text/plain": [
       "(array([ 5.92136689e+03,  1.74224700e+04,  3.05694560e+04, -4.89480138e-02]),\n",
       " array([0.02020202, 0.02020202, 0.02020202]))"
      ]
     },
     "execution_count": 18,
     "metadata": {},
     "output_type": "execute_result"
    }
   ],
   "source": [
    "sol.x,length_scale"
   ]
  },
  {
   "cell_type": "code",
   "execution_count": 17,
   "metadata": {},
   "outputs": [
    {
     "data": {
      "text/plain": [
       "[<matplotlib.lines.Line2D at 0x26a172ba108>]"
      ]
     },
     "execution_count": 17,
     "metadata": {},
     "output_type": "execute_result"
    },
    {
     "data": {
      "image/png": "[encoded data removed]",
      "text/plain": [
       "<Figure size 432x288 with 1 Axes>"
      ]
     },
     "metadata": {
      "needs_background": "light"
     },
     "output_type": "display_data"
    }
   ],
   "source": [
    "plt.plot(f(x_grid),y_train,'.')\n",
    "x_test = [np.sort(np.random.random(100)) for i in range(d)]\n",
    "x_grid_test=make_grid(x_test)\n",
    "plt.plot(f(x_grid_test),gpr.predict(x_test),'.')"
   ]
  },
  {
   "cell_type": "code",
   "execution_count": null,
   "metadata": {},
   "outputs": [],
   "source": []
  }
 ],
 "metadata": {
  "kernelspec": {
   "display_name": "Python 3",
   "language": "python",
   "name": "python3"
  },
  "language_info": {
   "codemirror_mode": {
    "name": "ipython",
    "version": 3
   },
   "file_extension": ".py",
   "mimetype": "text/x-python",
   "name": "python",
   "nbconvert_exporter": "python",
   "pygments_lexer": "ipython3",
   "version": "3.7.4"
  }
 },
 "nbformat": 4,
 "nbformat_minor": 2
}
